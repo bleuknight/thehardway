{
 "cells": [
  {
   "cell_type": "markdown",
   "metadata": {},
   "source": [
    "# Ignoring all the things in Exercise 0..."
   ]
  },
  {
   "cell_type": "code",
   "execution_count": 70,
   "metadata": {},
   "outputs": [
    {
     "name": "stdout",
     "output_type": "stream",
     "text": [
      "Hello World!\n"
     ]
    }
   ],
   "source": [
    "print(\"Hello World!\")"
   ]
  },
  {
   "cell_type": "code",
   "execution_count": 71,
   "metadata": {},
   "outputs": [
    {
     "name": "stdout",
     "output_type": "stream",
     "text": [
      "this is fun\n"
     ]
    }
   ],
   "source": [
    "print(\"this is fun\")"
   ]
  },
  {
   "cell_type": "code",
   "execution_count": 72,
   "metadata": {},
   "outputs": [
    {
     "name": "stdout",
     "output_type": "stream",
     "text": [
      "Yay! Printing!\n"
     ]
    }
   ],
   "source": [
    "print('Yay! Printing!')"
   ]
  },
  {
   "cell_type": "code",
   "execution_count": 73,
   "metadata": {},
   "outputs": [
    {
     "name": "stdout",
     "output_type": "stream",
     "text": [
      "I'd much rather you 'not'.\n"
     ]
    }
   ],
   "source": [
    "print(\"I'd much rather you 'not'.\")"
   ]
  },
  {
   "cell_type": "code",
   "execution_count": 74,
   "metadata": {},
   "outputs": [
    {
     "name": "stdout",
     "output_type": "stream",
     "text": [
      "I \"said\" do not touch this.\n"
     ]
    }
   ],
   "source": [
    "print('I \"said\" do not touch this.')"
   ]
  },
  {
   "cell_type": "markdown",
   "metadata": {
    "collapsed": true
   },
   "source": [
    "# Exercise 3: Numbers and Math"
   ]
  },
  {
   "cell_type": "code",
   "execution_count": 75,
   "metadata": {},
   "outputs": [
    {
     "name": "stdout",
     "output_type": "stream",
     "text": [
      "I will now count my chickens:\n",
      "hens 30.0\n",
      "roosters 97\n",
      "Now I will count the eggs:\n",
      "6.75\n",
      "Is it true that 3 + 2 < 5 - 7?\n",
      "False\n",
      "what is 3 + 2? 5\n",
      "what is 5-7? -2\n",
      "Oh, that's why it's false\n",
      "how about some more?\n",
      "is it greater? True\n",
      "is it greater or equal? True\n",
      "is it less or equal? False\n"
     ]
    }
   ],
   "source": [
    "print(\"I will now count my chickens:\")\n",
    "print (\"hens\", 25+30/6)\n",
    "print (\"roosters\", 100-25  * 3 % 4)\n",
    "print(\"Now I will count the eggs:\")\n",
    "print(3+2+1-5+4%2-1/4+6)\n",
    "print(\"Is it true that 3 + 2 < 5 - 7?\")\n",
    "print (3 + 3 < 5 - 7)\n",
    "print(\"what is 3 + 2?\", 3 + 2)\n",
    "print(\"what is 5-7?\", 5-7)\n",
    "print(\"Oh, that's why it's false\")\n",
    "print(\"how about some more?\")\n",
    "print (\"is it greater?\", 5 > -2)\n",
    "print (\"is it greater or equal?\", 5>= -2)\n",
    "print(\"is it less or equal?\", 5 <= -2)\n"
   ]
  },
  {
   "cell_type": "markdown",
   "metadata": {
    "collapsed": true
   },
   "source": [
    "# Study Drills"
   ]
  },
  {
   "cell_type": "code",
   "execution_count": 76,
   "metadata": {},
   "outputs": [
    {
     "name": "stdout",
     "output_type": "stream",
     "text": [
      "I will now count my chickens:\n",
      "hens 30.0\n",
      "roosters 97\n",
      "Now I will count the eggs:\n",
      "6.75\n",
      "Is it true that 3 + 2 < 5 - 7?\n",
      "False\n",
      "what is 3 + 2? 5\n",
      "what is 5-7? -2\n",
      "Oh, that's why it's false\n",
      "how about some more?\n",
      "is it greater? True\n",
      "is it greater or equal? True\n",
      "is it less or equal? False\n"
     ]
    }
   ],
   "source": [
    "# this line writes text\n",
    "print(\"I will now count my chickens:\")\n",
    "\n",
    "# this line gives the number of hens and adds them\n",
    "print (\"hens\", 25+30/6)\n",
    "\n",
    "# this line gives the number of roosters and adds them\n",
    "print (\"roosters\", 100-25  * 3 % 4)\n",
    "\n",
    "#this line prints text\n",
    "print(\"Now I will count the eggs:\")\n",
    "\n",
    "#this line gives the number of eggs with no text\n",
    "print(3+2+1-5+4%2-1/4+6)\n",
    "\n",
    "#this line gives text\n",
    "print(\"Is it true that 3 + 2 < 5 - 7?\")\n",
    "\n",
    "#this prints true or false depending on numbers\n",
    "print (3 + 2 < 5 - 7)\n",
    "\n",
    "#this line prints text followed by the number\n",
    "print(\"what is 3 + 2?\", 3 + 2)\n",
    "\n",
    "#this line prints text followed by the number\n",
    "print(\"what is 5-7?\", 5-7)\n",
    "\n",
    "#this line prints text\n",
    "print(\"Oh, that's why it's false\")\n",
    "\n",
    "#this line prints text\n",
    "print(\"how about some more?\")\n",
    "\n",
    "#this line prints text followed by true or false\n",
    "print (\"is it greater?\", 5 > -2)\n",
    "\n",
    "#this line prints text followed by true or false\n",
    "print (\"is it greater or equal?\", 5>= -2)\n",
    "\n",
    "#this line prints text followed by true or false\n",
    "print(\"is it less or equal?\", 5 <= -2)"
   ]
  },
  {
   "cell_type": "code",
   "execution_count": 77,
   "metadata": {},
   "outputs": [
    {
     "name": "stdout",
     "output_type": "stream",
     "text": [
      "Justin needs two weeks off paid\n",
      "Bleu needs a personal assistant\n",
      "Just kidding, time to get to the moving budget and math\n",
      "Santa needs to clean before anything happens inside, the office will pay\n",
      "We need to connect new electric, water, trash & gas Jan 3, how much will this cost?\n",
      "El paso electric = x \n",
      "Water = y\n",
      "Gas = z\n",
      "trash = t\n",
      "utilities = t + x + y+ z 14\n",
      "We also need to buy a new bed and new sheets $400\n",
      "total cost of moving expenses = z 414\n"
     ]
    }
   ],
   "source": [
    "print(\"Justin needs two weeks off paid\")\n",
    "print(\"Bleu needs a personal assistant\")\n",
    "print(\"Just kidding, time to get to the moving budget and math\")\n",
    "print(\"Santa needs to clean before anything happens inside, the office will pay\")\n",
    "print(\"We need to connect new electric, water, trash & gas Jan 3, how much will this cost?\")\n",
    "print(\"El paso electric = x \")\n",
    "print(\"Water = y\")\n",
    "print (\"Gas = z\")\n",
    "print (\"trash = t\")\n",
    "print (\"utilities = t + x + y+ z\", 2 + 3 + 4 + 5)\n",
    "print(\"We also need to buy a new bed and new sheets $400\")\n",
    "print (\"total cost of moving expenses = z\", 400 + 14)"
   ]
  },
  {
   "cell_type": "markdown",
   "metadata": {},
   "source": [
    "# Excercise 4: Variables and Names"
   ]
  },
  {
   "cell_type": "code",
   "execution_count": 78,
   "metadata": {},
   "outputs": [
    {
     "name": "stdout",
     "output_type": "stream",
     "text": [
      "there are 100 cars available\n",
      "there are only 30 drivers available\n",
      "There will be 70 empty cars today\n",
      "we can transport 120.0 people today\n",
      "we have 90 to carpool today.\n",
      "We need to put about 3.0 in each car\n"
     ]
    }
   ],
   "source": [
    "cars = 100\n",
    "space_in_a_car = 4.0\n",
    "drivers = 30\n",
    "passengers = 90\n",
    "cars_not_driven = cars - drivers\n",
    "cars_driven = drivers\n",
    "carpool_capacity = cars_driven * space_in_a_car\n",
    "average_passengers_per_car = passengers / cars_driven\n",
    "\n",
    "print(\"there are\", cars, \"cars available\")\n",
    "print(\"there are only\", drivers, \"drivers available\")\n",
    "print(\"There will be\", cars_not_driven, \"empty cars today\")\n",
    "print(\"we can transport\", carpool_capacity, \"people today\")\n",
    "print(\"we have\", passengers, \"to carpool today.\")\n",
    "print(\"We need to put about\", average_passengers_per_car, \"in each car\")"
   ]
  },
  {
   "cell_type": "markdown",
   "metadata": {},
   "source": [
    "# Exercise 5: More Variables and Printing"
   ]
  },
  {
   "cell_type": "code",
   "execution_count": 79,
   "metadata": {},
   "outputs": [
    {
     "name": "stdout",
     "output_type": "stream",
     "text": [
      "Let's talk about Zed A. Shaw.\n",
      "He's 74 inches tall.\n",
      "He's 180 pounds heavy.\n",
      "He's got blue eyes and brown hair.\n",
      "Actually that's not too heavy\n",
      "His teeth are usually white depending on the coffee.\n",
      "If I add 35, 74, and 180 I get 289.\n"
     ]
    }
   ],
   "source": [
    "# my_name = 'Zed A. Shaw'\n",
    "my_age = 35 #Not a lie\n",
    "my_height = 74 #inches\n",
    "my_weight = 180 # lbs\n",
    "my_eyes = 'blue'\n",
    "my_teeth = 'white'\n",
    "my_hair = 'brown'\n",
    "\n",
    "# differences between my code and book here\n",
    "# %s acts a placeholder for a string while %d acts as a placeholder for a number\n",
    "# differences are likely due to python 3.5 in my anaconda installation versus python 3.6 in the book\n",
    "\n",
    "print(\"Let's talk about %s.\" % my_name)\n",
    "print(\"He's %d inches tall.\" % my_height)\n",
    "print(\"He\\'s %d pounds heavy.\" % my_weight)\n",
    "print(\"He's got %s eyes and %s hair.\" % (my_eyes, my_hair))\n",
    "print(\"Actually that's not too heavy\")\n",
    "print(\"His teeth are usually %s depending on the coffee.\" % my_teeth)\n",
    "\n",
    "# this line is tricky, try to get it exactly right\n",
    "total = my_age + my_height + my_weight\n",
    "print(\"If I add %d, %d, and %d I get %d.\" %(my_age, my_height, my_weight, total))\n",
    "\n"
   ]
  },
  {
   "cell_type": "markdown",
   "metadata": {},
   "source": [
    "# Study Drills Exercise 5"
   ]
  },
  {
   "cell_type": "code",
   "execution_count": 80,
   "metadata": {},
   "outputs": [
    {
     "name": "stdout",
     "output_type": "stream",
     "text": [
      "Let's talk about Zed A. Shaw.\n",
      "He's 187 centimeters tall.\n",
      "He's 81 kilograms heavy.\n",
      "He's got blue eyes and brown hair.\n",
      "Actually that's not too heavy\n",
      "His teeth are usually white depending on the coffee.\n",
      "If I add 35, 74, and 180 I get 289.\n"
     ]
    }
   ],
   "source": [
    "my_name = 'Zed A. Shaw'\n",
    "my_age = 35 #Not a lie\n",
    "my_height = 74 #inches\n",
    "cm_height = 2.54 * my_height\n",
    "kg_weight = 0.45 * my_weight\n",
    "my_weight = 180 # lbs\n",
    "my_eyes = 'blue'\n",
    "my_teeth = 'white'\n",
    "my_hair = 'brown'\n",
    "\n",
    "# differences between my code and book here\n",
    "# %s acts a placeholder for a string while %d acts as a placeholder for a number\n",
    "# differences are likely due to python 3.5 in my anaconda installation versus python 3.6 in the book\n",
    "\n",
    "print(\"Let's talk about %s.\" % my_name)\n",
    "print(\"He's %d centimeters tall.\" % cm_height)\n",
    "print(\"He\\'s %d kilograms heavy.\" % kg_weight)\n",
    "print(\"He's got %s eyes and %s hair.\" % (my_eyes, my_hair))\n",
    "print(\"Actually that's not too heavy\")\n",
    "print(\"His teeth are usually %s depending on the coffee.\" % my_teeth)\n",
    "\n",
    "# this line is tricky, try to get it exactly right\n",
    "total = my_age + my_height + my_weight\n",
    "print(\"If I add %d, %d, and %d I get %d.\" %(my_age, my_height, my_weight, total))\n"
   ]
  },
  {
   "cell_type": "markdown",
   "metadata": {},
   "source": [
    "# Exercise 6: More variables and printing"
   ]
  },
  {
   "cell_type": "markdown",
   "metadata": {},
   "source": [
    "types_of_people = 10\n",
    "\n",
    "#code differs from book here\n",
    "x = \"there are %d types of people:\" % types_of_people\n",
    "\n",
    "binary = \"binary\"\n",
    "do_not = \"don't\"\n",
    "#print 2 strings inside a string\n",
    "y = \"those who know %s and those who %s.\" % (binary, do_not)\n",
    "print(x)\n",
    "print(y)\n",
    "\n",
    "print(\"I said %s\" % x)\n",
    "print(\"I also said %s\" % y)\n",
    "hilarious = False\n",
    "joke_evaluation = \"Isn't that joke so funny?! {}\" \n",
    "print(joke_evaluation.format(hilarious))\n",
    "w = \"This is the left side of...\"\n",
    "e = \"a string with a right side.\"\n",
    "print(w + e)"
   ]
  },
  {
   "cell_type": "markdown",
   "metadata": {},
   "source": [
    "# Study Drills Exercise 6"
   ]
  },
  {
   "cell_type": "code",
   "execution_count": 81,
   "metadata": {},
   "outputs": [
    {
     "name": "stdout",
     "output_type": "stream",
     "text": [
      "there are 10 types of people:\n",
      "those who know binary and those who don't.\n",
      "I said there are 10 types of people:\n",
      "I also said those who know binary and those who don't.\n",
      "Isn't that joke so funny?! False\n",
      "This is the left side of...a string with a right side.\n"
     ]
    }
   ],
   "source": [
    "#assign number variable\n",
    "types_of_people = 10\n",
    "\n",
    "#code differs from book here\n",
    "\n",
    "#insert string in a string\n",
    "x = \"there are %d types of people:\" % types_of_people\n",
    "\n",
    "#assign string variables\n",
    "binary = \"binary\"\n",
    "do_not = \"don't\"\n",
    "\n",
    "#print 2 strings inside a string\n",
    "y = \"those who know %s and those who %s.\" % (binary, do_not)\n",
    "print(x)\n",
    "print(y)\n",
    "\n",
    "#pring string in a string in a string!\n",
    "print(\"I said %s\" % x)\n",
    "\n",
    "#print string in a string in a string!\n",
    "print(\"I also said %s\" % y)\n",
    "hilarious = False\n",
    "\n",
    "#the .format operator is confusing to me here\n",
    "joke_evaluation = \"Isn't that joke so funny?! {}\" \n",
    "print(joke_evaluation.format(hilarious))\n",
    "w = \"This is the left side of...\"\n",
    "e = \"a string with a right side.\"\n",
    "\n",
    "print(w + e)"
   ]
  },
  {
   "cell_type": "markdown",
   "metadata": {},
   "source": [
    "# Exercise 7: More Printing!"
   ]
  },
  {
   "cell_type": "code",
   "execution_count": 82,
   "metadata": {},
   "outputs": [
    {
     "name": "stdout",
     "output_type": "stream",
     "text": [
      "Mary had a little lamb.\n",
      "Its fleece was white as snow.\n",
      "And everywhere that Mary went.\n",
      "..........\n",
      "Cheese Burger\n"
     ]
    }
   ],
   "source": [
    "# prints text\n",
    "print(\"Mary had a little lamb.\")\n",
    "\n",
    "#also prints text- apparently the .format operator fills in the bracket\n",
    "print(\"Its fleece was white as {}.\" .format('snow'))\n",
    "\n",
    "# prints text\n",
    "print(\"And everywhere that Mary went.\")\n",
    "\n",
    "# print ten periods\n",
    "print(\".\" * 10) #what did that do?\n",
    "\n",
    "#assigns string values corresponding to the letters in cheeseburger to variables end1 - end12\n",
    "end1 = \"C\"\n",
    "end2 = \"h\"\n",
    "end3 = \"e\"\n",
    "end4 = \"e\"\n",
    "end5 = \"s\"\n",
    "end6 = \"e\"\n",
    "end7 = \"B\"\n",
    "end8 = \"u\"\n",
    "end9 = \"r\"\n",
    "end10 = \"g\"\n",
    "end11 = \"e\"\n",
    "end12 = \"r\"\n",
    "\n",
    "#prints Cheese with a space after\n",
    "print(end1 + end2 + end3 + end4 + end5 + end6, end=' ')\n",
    "\n",
    "#prints Burger\n",
    "print(end7 + end8 + end9 + end10 + end11 + end12)\n",
    "\n",
    "# remove comma after end6 causes invalid syntax error\n"
   ]
  },
  {
   "cell_type": "markdown",
   "metadata": {},
   "source": [
    "# Exercise 8: Printing, Printing"
   ]
  },
  {
   "cell_type": "code",
   "execution_count": 83,
   "metadata": {},
   "outputs": [
    {
     "name": "stdout",
     "output_type": "stream",
     "text": [
      "1 2 3 4\n",
      "one two three four\n",
      "True False False True\n",
      "{} {} {} {} {} {} {} {} {} {} {} {} {} {} {} {}\n",
      "Try your own text here maybe a poem or a song about fear\n"
     ]
    }
   ],
   "source": [
    "#defines string to be formatted\n",
    "formatter = \"{} {} {} {}\"\n",
    "\n",
    "#calls the .format function to fill in the string\n",
    "print(formatter.format(1, 2, 3, 4))\n",
    "print(formatter.format(\"one\", \"two\", \"three\", \"four\"))\n",
    "print(formatter.format(True, False, False, True ))\n",
    "\n",
    "#fills the string with itself\n",
    "print(formatter.format(formatter, formatter, formatter, formatter))\n",
    "\n",
    "#indents and line breaks add readability but don't break the code if removed\n",
    "print(formatter.format(\n",
    "    \"Try your\",\n",
    "    \"own text here\",\n",
    "    \"maybe a poem\",\n",
    "    \"or a song about fear\",\n",
    "))"
   ]
  },
  {
   "cell_type": "markdown",
   "metadata": {},
   "source": [
    "# Exercise 9: Printing, Printing, Printing"
   ]
  },
  {
   "cell_type": "code",
   "execution_count": 84,
   "metadata": {},
   "outputs": [
    {
     "name": "stdout",
     "output_type": "stream",
     "text": [
      "Here are the days:  Mon Tue Wed Thu Fri Sat Sun\n",
      "Here are the months Jan\n",
      "Feb\n",
      "Mar\n",
      "Apr\n",
      "May\n",
      "Jun\n",
      "Jul\n",
      "Aug\n",
      "\n",
      "There's something going on here.\n",
      "With the three double quotes.\n",
      "We'll be able to type as much as we like.\n",
      "Even 4 lines if we want, or 5, or 6\n",
      "\n"
     ]
    }
   ],
   "source": [
    "#assigns the day abbreviations to the days variable\n",
    "days = \"Mon Tue Wed Thu Fri Sat Sun\"\n",
    "\n",
    "#assigns the month abbreviations to the months variable\n",
    "# the \\n indicates a line break after each month abbreviation\n",
    "months = \"Jan\\nFeb\\nMar\\nApr\\nMay\\nJun\\nJul\\nAug\"\n",
    "\n",
    "#prints the string followed by the day abbreviations\n",
    "print(\"Here are the days: \", days)\n",
    "\n",
    "#prints the string followed by the month abbreviations including line breaks\n",
    "print(\"Here are the months\", months)\n",
    "\n",
    "#the triple quote allows string printing across multiple lines of code and \n",
    "#note that this format keeps line breaks\n",
    "print(\"\"\"\n",
    "There's something going on here.\n",
    "With the three double quotes.\n",
    "We'll be able to type as much as we like.\n",
    "Even 4 lines if we want, or 5, or 6\n",
    "\"\"\")"
   ]
  },
  {
   "cell_type": "markdown",
   "metadata": {},
   "source": [
    "# Exercise 10: What was that?"
   ]
  },
  {
   "cell_type": "code",
   "execution_count": 85,
   "metadata": {},
   "outputs": [
    {
     "name": "stdout",
     "output_type": "stream",
     "text": [
      "\tI'm tabbed in.\n",
      "I'm split\n",
      "on a line.\n",
      "I'm \\ a \\ cat.\n",
      "\n",
      "I'll do a list:\n",
      "\t* cat food\n",
      "\t* fishies\n",
      "\t* catnip\n",
      "\t* grass\n",
      "\n"
     ]
    }
   ],
   "source": [
    "#uses the \\t operator to create a tab before the string\n",
    "tabby_cat = \"\\tI'm tabbed in.\"\n",
    "\n",
    "#uses the \\n operator to create a line break\n",
    "persian_cat = \"I'm split\\non a line.\"\n",
    "\n",
    "#uses the backslash operator to print a backslash- \n",
    "# prints identically with single or double backslash \n",
    "backslash_cat = \"I'm \\\\ a \\\\ cat.\"\n",
    "\n",
    "#uses ''' operator to retain formatting\n",
    "# \\t operator indents the list\n",
    "# * serves as bullet \n",
    "# even though lines can be broken without \\n they can also break with it\n",
    "# \"\"\" operator and ''' operator can be used interchangeably\n",
    "# for some reason (I don't actually know) ''' is preferable to \"\"\"\n",
    "fat_cat = '''\n",
    "I'll do a list:\n",
    "\\t* cat food\n",
    "\\t* fishies\n",
    "\\t* catnip\\n\\t* grass\n",
    "'''\n",
    "\n",
    "print(tabby_cat)\n",
    "print(persian_cat)\n",
    "print(backslash_cat)\n",
    "print(fat_cat)"
   ]
  },
  {
   "cell_type": "markdown",
   "metadata": {},
   "source": [
    "# Exercise 11: Asking Questions"
   ]
  },
  {
   "cell_type": "code",
   "execution_count": 86,
   "metadata": {},
   "outputs": [
    {
     "name": "stdout",
     "output_type": "stream",
     "text": [
      "How old are you? 32\n",
      "How tall are you? 5'3\"\n",
      "How much do you weigh? 150 lbs\n",
      "So, you're 32 old, 5'3\" tall, and 150 lbs heavy.\n"
     ]
    }
   ],
   "source": [
    "print(\"How old are you?\", end=' ')\n",
    "age = input()\n",
    "print(\"How tall are you?\", end=' ')\n",
    "height = input()\n",
    "print(\"How much do you weigh?\", end=' ')\n",
    "weight = input()\n",
    "\n",
    "print(\"So, you're {0} old, {1} tall, and {2} heavy.\".format(age, height, weight))"
   ]
  },
  {
   "cell_type": "markdown",
   "metadata": {},
   "source": [
    "# Study Drills"
   ]
  },
  {
   "cell_type": "code",
   "execution_count": 87,
   "metadata": {},
   "outputs": [
    {
     "name": "stdout",
     "output_type": "stream",
     "text": [
      "How old are you 32\n",
      "How tall are you in inches? 63\n",
      "How much do you weigh in pounds? 150\n",
      "So, you're REALLY 37 years old, 61 inches tall, and 165 pounds heavy\n"
     ]
    }
   ],
   "source": [
    "print(\"How old are you\", end = ' ')\n",
    "# changes string input into an integer \n",
    "x = int(input())\n",
    "# adds five years to compensate for lying\n",
    "age = x + 5\n",
    "\n",
    "print(\"How tall are you in inches?\", end = ' ')\n",
    "#changes string input into an integer\n",
    "y = int(input())\n",
    "# subtracts a couple of inches to compensate for lying\n",
    "height = y - 2\n",
    "\n",
    "print(\"How much do you weigh in pounds?\", end = ' ')\n",
    "# changes string input into an integer\n",
    "z = int(input())\n",
    "# adds fifteen pounds to compensate for lying\n",
    "weight = z + 15\n",
    "\n",
    "print(\"So, you're REALLY {0} years old, {1} inches tall, and {2} pounds heavy\".format(age, height, weight))"
   ]
  },
  {
   "cell_type": "markdown",
   "metadata": {},
   "source": [
    "# Exercise 12: Prompting People"
   ]
  },
  {
   "cell_type": "code",
   "execution_count": 88,
   "metadata": {},
   "outputs": [
    {
     "name": "stdout",
     "output_type": "stream",
     "text": [
      "How old are you? 32\n",
      "How tall are you? 5'3\"\n",
      "How much do you weigh? 150 lbs\n",
      "So, you're 32 years old, 5'3\" tall and 150 lbs heavy\n"
     ]
    }
   ],
   "source": [
    "age = input(\"How old are you? \")\n",
    "height = input(\"How tall are you? \")\n",
    "weight = input(\"How much do you weigh? \")\n",
    "\n",
    "print(\"So, you're {0} years old, {1} tall and {2} heavy\".format(age, height, weight))"
   ]
  },
  {
   "cell_type": "code",
   "execution_count": null,
   "metadata": {
    "collapsed": true
   },
   "outputs": [],
   "source": []
  }
 ],
 "metadata": {
  "kernelspec": {
   "display_name": "Python 3",
   "language": "python",
   "name": "python3"
  },
  "language_info": {
   "codemirror_mode": {
    "name": "ipython",
    "version": 3
   },
   "file_extension": ".py",
   "mimetype": "text/x-python",
   "name": "python",
   "nbconvert_exporter": "python",
   "pygments_lexer": "ipython3",
   "version": "3.5.4"
  }
 },
 "nbformat": 4,
 "nbformat_minor": 2
}
